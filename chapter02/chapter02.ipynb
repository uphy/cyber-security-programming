{
 "cells": [
  {
   "cell_type": "markdown",
   "metadata": {},
   "source": [
    "# 2章 通信プログラムの作成：基礎\n",
    "\n",
    "Pythonは大抵のサーバにデフォルトで入っていることが多いので、ハックに利用しやすい。\n",
    "基本的なTCP/UDPプログラムを説明する。"
   ]
  },
  {
   "cell_type": "markdown",
   "metadata": {
    "collapsed": true
   },
   "source": [
    "## TCP Client - google.com\n",
    "\n",
    "GoogleにHTTPリクエストを送ってレスポンスを表示する。"
   ]
  },
  {
   "cell_type": "code",
   "execution_count": null,
   "metadata": {
    "collapsed": false
   },
   "outputs": [],
   "source": [
    "import socket\n",
    "\n",
    "target_host = \"www.google.com\"\n",
    "target_port = 80\n",
    "\n",
    "client = socket.socket(socket.AF_INET, socket.SOCK_STREAM)\n",
    "client.connect((target_host,target_port))\n",
    "client.send(bytearray(\"GET / HTTP/1.1\\r\\nHost: google.com\\r\\n\\r\\n\", \"UTF-8\"))\n",
    "response = client.recv(4096)\n",
    "\n",
    "print(response)"
   ]
  },
  {
   "cell_type": "markdown",
   "metadata": {},
   "source": [
    "## TCP Server\n",
    "\n",
    "アクセスしてきたクライアントからのメッセージを表示するだけのプログラム"
   ]
  },
  {
   "cell_type": "code",
   "execution_count": null,
   "metadata": {
    "collapsed": false
   },
   "outputs": [],
   "source": [
    "import socket\n",
    "import threading\n",
    "\n",
    "bind_ip = \"0.0.0.0\"\n",
    "bind_port = 9999\n",
    "\n",
    "server = socket.socket(socket.AF_INET, socket.SOCK_STREAM)\n",
    "server.bind((bind_ip, bind_port))\n",
    "server.listen(5)\n",
    "print(\"[*] Listening on %s:%d\" % (bind_ip, bind_port))\n",
    "\n",
    "def handle_client(client_socket):\n",
    "    request = client_socket.recv(1024)\n",
    "    print(\"[*] Received: %s\" % request)\n",
    "    client_socket.send(bytearray(\"ACK!\", \"UTF-8\"))\n",
    "    client_socket.close()\n",
    "\n",
    "while True:\n",
    "    client, addr = server.accept()\n",
    "    print(\"[*] Accepted connection from %s:%d\" % (addr[0], addr[1]))\n",
    "    client_handler = threading.Thread(target=handle_client, args=(client,))\n",
    "    client_handler.start()"
   ]
  },
  {
   "cell_type": "markdown",
   "metadata": {},
   "source": [
    "## TCP Client\n",
    "\n",
    "↑で動いているサーバーにメッセージを送り、サーバーからのレスポンスを表示する。\n",
    "↑のプログラムは、while TrueなのでPythonインタプリタが終了しない。\n",
    "別にファイルを作って実行すること。"
   ]
  },
  {
   "cell_type": "code",
   "execution_count": null,
   "metadata": {
    "collapsed": false
   },
   "outputs": [],
   "source": [
    "target_host = \"localhost\"\n",
    "target_port = 9999\n",
    "\n",
    "client = socket.socket(socket.AF_INET, socket.SOCK_STREAM)\n",
    "client.connect((target_host, target_port))\n",
    "client.send(\"Hello\")\n",
    "response = client.recv(4096)\n",
    "\n",
    "print(response)"
   ]
  }
 ],
 "metadata": {
  "anaconda-cloud": {},
  "kernelspec": {
   "display_name": "Python [conda root]",
   "language": "python",
   "name": "conda-root-py"
  },
  "language_info": {
   "codemirror_mode": {
    "name": "ipython",
    "version": 3.0
   },
   "file_extension": ".py",
   "mimetype": "text/x-python",
   "name": "python",
   "nbconvert_exporter": "python",
   "pygments_lexer": "ipython3",
   "version": "3.5.2"
  }
 },
 "nbformat": 4,
 "nbformat_minor": 0
}